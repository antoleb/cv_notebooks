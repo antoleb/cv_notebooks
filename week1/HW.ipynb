{
 "cells": [
  {
   "cell_type": "markdown",
   "metadata": {},
   "source": [
    "## Реализация билатерального фильтра\n",
    "В этом задании вам предстоит реализовать билатеральный фильтр. Будем реализовывать его маленькими частями."
   ]
  },
  {
   "cell_type": "code",
   "execution_count": null,
   "metadata": {},
   "outputs": [],
   "source": [
    "import numpy as np\n",
    "from skimage import img_as_float, io, transform\n",
    "from matplotlib import pyplot as plt"
   ]
  },
  {
   "cell_type": "code",
   "execution_count": null,
   "metadata": {},
   "outputs": [],
   "source": [
    "import matplotlib\n",
    "\n",
    "# Выставите те, что удобны вам\n",
    "matplotlib.rcParams['figure.figsize'] = (20, 10)"
   ]
  },
  {
   "cell_type": "markdown",
   "metadata": {},
   "source": [
    "Первым делом проверим что изображение и гид имеют одинаковые размеры. Нас интересует только высота и ширина."
   ]
  },
  {
   "cell_type": "code",
   "execution_count": null,
   "metadata": {},
   "outputs": [],
   "source": [
    "def check_images(image, guide) -> bool:\n",
    "    pass"
   ]
  },
  {
   "cell_type": "code",
   "execution_count": null,
   "metadata": {},
   "outputs": [],
   "source": [
    "assert check_images(image=np.random.randn(10, 10, 3), guide=np.random.randn(10, 10, 3))\n",
    "assert check_images(image=np.random.randn(10, 10, 3), guide=np.random.randn(10, 10, 1))\n",
    "assert check_images(image=np.random.randn(10, 10, 1), guide=np.random.randn(10, 10, 1))\n",
    "\n",
    "assert not check_images(image=np.random.randn(10, 10, 3), guide=np.random.randn(10, 11, 3))\n",
    "assert not check_images(image=np.random.randn(12, 10, 3), guide=np.random.randn(10, 10, 3))"
   ]
  },
  {
   "cell_type": "markdown",
   "metadata": {},
   "source": [
    "Мы будем использовать фильтр свертки с динамическими весами. Такие фильтры уменьшают размер изображения. Для сохранения исходного размера изображения нам потребуется функция паддинга."
   ]
  },
  {
   "cell_type": "code",
   "execution_count": null,
   "metadata": {},
   "outputs": [],
   "source": [
    "def pad_image(image,\n",
    "              pad_size, # Размер отступа\n",
    "              mode='symmetric' # Передается в np.pad\n",
    "             ) -> np.array:\n",
    "    pass"
   ]
  },
  {
   "cell_type": "code",
   "execution_count": null,
   "metadata": {},
   "outputs": [],
   "source": [
    "dummy_input = np.ones([3, 3])\n",
    "assert pad_image(np.ones([3, 3]), 1).shape == (5, 5)\n",
    "assert pad_image(np.ones([3, 3, 3]), 1).shape == (5, 5, 3)\n",
    "assert pad_image(np.ones([3, 3, 1]), 1).shape == (5, 5, 1)"
   ]
  },
  {
   "cell_type": "markdown",
   "metadata": {},
   "source": [
    "Теперь реализуем функцию, создающую ядро, основанное на расстоянии пикселей. "
   ]
  },
  {
   "cell_type": "code",
   "execution_count": null,
   "metadata": {},
   "outputs": [],
   "source": [
    "def get_distance_kernel(kernel_size, sigma) -> np.array:\n",
    "    pass"
   ]
  },
  {
   "cell_type": "markdown",
   "metadata": {},
   "source": [
    "Теперь реализуем функцию, создающую ядро, основанное на разницу в яркости пикселей. Обратите внимание, что изображение может быть как одноканальным, так и многоканальным."
   ]
  },
  {
   "cell_type": "code",
   "execution_count": null,
   "metadata": {},
   "outputs": [],
   "source": [
    "# @numba.jit(nopython=True, parallel=True)\n",
    "def get_intencity_kernel(pixel_value, # Значения центрального (референсного) пикселя\n",
    "                         image_slice, # Срез картинки размером с ядро вокруг референсного пикселя\n",
    "                         sigma\n",
    "                        ) -> np.array:\n",
    "    pass"
   ]
  },
  {
   "cell_type": "code",
   "execution_count": null,
   "metadata": {},
   "outputs": [],
   "source": [
    "assert np.allclose(get_intencity_kernel(0, np.ones([3, 3]), 1), 0.60653066)\n",
    "assert np.allclose(get_intencity_kernel(1, np.ones([3, 3]), 1), 1)\n",
    "assert np.allclose(get_intencity_kernel(1, np.ones([3, 3, 3]), 1), 1)\n",
    "assert np.allclose(get_intencity_kernel(0, np.ones([3, 3, 3]), 1), 0.42062003)"
   ]
  },
  {
   "cell_type": "markdown",
   "metadata": {},
   "source": [
    "Наконец создадим основной проход по изображению. Тут нам необходимо:\n",
    "1. Создать ядро для каждого пикселя\n",
    "2. Свернуть всех соседей полученным ядром\n",
    "3. Привести значение пикселей на отрезок [0, 1] (Гаранитируем вход такого формата далее)\n"
   ]
  },
  {
   "cell_type": "code",
   "execution_count": null,
   "metadata": {},
   "outputs": [],
   "source": [
    "def main_loop(padded_image,\n",
    "              padded_guide,\n",
    "              distance_kernel,\n",
    "              sigma_r,\n",
    "              pad_size,\n",
    "              kernel_size,\n",
    "              output # Сюда будет записывать результат\n",
    "             ) -> np.array:\n",
    "    \n",
    "    for i in range(output.shape[0]):\n",
    "        for j in range(output.shape[1]):\n",
    "            pass"
   ]
  },
  {
   "cell_type": "markdown",
   "metadata": {},
   "source": [
    "Объеденим все вышенаписанное в одну функцию"
   ]
  },
  {
   "cell_type": "code",
   "execution_count": null,
   "metadata": {},
   "outputs": [],
   "source": [
    "def bilateralfilter(image,\n",
    "                    guide,\n",
    "                    sigma_s, # Сигма для ядра на основе расстояний\n",
    "                    sigma_r # Сигма для ядра на основе яркостей\n",
    "                   ) -> np.array:\n",
    "    # Первым делом надо привести изображения в формат float\n",
    "    image = img_as_float(image)\n",
    "    guide = img_as_float(guide)\n",
    "    \n",
    "    # Затем проверяем валидность изображений\n",
    "    if not check_images(image, guide):\n",
    "        raise Exeption('Guidance not aligned with image')\n",
    "        \n",
    "    # Расчитываем размер ядра и паддинга исходя из соображений, что для гауссова ядра нужне размер 6*sigma\n",
    "    pad_size = int(np.ceil(3 * sigma_s))\n",
    "    kernel_size = 2 * pad_size + 1\n",
    "    \n",
    "    \n",
    "    padded_image = pad_image(image, pad_size)\n",
    "    padded_guide = pad_image(guide, pad_size)\n",
    "    \n",
    "    # Предподсчитываем ядро на основе расстояний\n",
    "    \n",
    "    distance_kernel = get_distance_kernel(kernel_size, sigma_s)\n",
    "    \n",
    "    # Запускаем основной расчет\n",
    "    output = np.zeros_like(image)\n",
    "    output = main_loop(padded_image, padded_guide, distance_kernel, sigma_r, pad_size, kernel_size, output)\n",
    "    return output"
   ]
  },
  {
   "cell_type": "code",
   "execution_count": null,
   "metadata": {},
   "outputs": [],
   "source": [
    "removed = io.imread('./media/mask_portrait.png')\n",
    "img = io.imread('./media/portrait.jpeg')\n",
    "\n",
    "img = transform.resize(img, [500, 500])\n",
    "\n",
    "# Портим сегментационную маску. Для интереса\n",
    "removed_bad =  transform.resize(removed[..., -1], [100, 100])\n",
    "removed_bad =  transform.resize(removed_bad, [500, 500])\n",
    "\n",
    "io.imshow(removed[..., -1])\n",
    "io.show()\n",
    "io.imshow(removed_bad)"
   ]
  },
  {
   "cell_type": "code",
   "execution_count": null,
   "metadata": {},
   "outputs": [],
   "source": [
    "from tqdm import tqdm_notebook"
   ]
  },
  {
   "cell_type": "code",
   "execution_count": null,
   "metadata": {},
   "outputs": [],
   "source": [
    "%%time\n",
    "res = bilateralfilter(removed_bad,\n",
    "                      img,\n",
    "                      20,\n",
    "                      15/255\n",
    "                     )"
   ]
  },
  {
   "cell_type": "code",
   "execution_count": null,
   "metadata": {},
   "outputs": [],
   "source": [
    "io.imshow(res)"
   ]
  },
  {
   "cell_type": "code",
   "execution_count": null,
   "metadata": {},
   "outputs": [],
   "source": [
    "assert np.allclose((res*255).astype(np.ubyte), io.imread('./media/bilateral_result.png'))"
   ]
  },
  {
   "cell_type": "code",
   "execution_count": null,
   "metadata": {},
   "outputs": [],
   "source": [
    "img2 = io.imread('./media/image1.jpg')\n",
    "img2 = transform.resize(img2, [640, 480]) # Меньше разрешение — быстрее работает\n",
    "io.imshow(img2)"
   ]
  },
  {
   "cell_type": "code",
   "execution_count": null,
   "metadata": {
    "scrolled": false
   },
   "outputs": [],
   "source": [
    "%%time\n",
    "\n",
    "# посмотрим как работае цветное само на себе\n",
    "res = bilateralfilter(img2,\n",
    "                      img2,\n",
    "                      50,\n",
    "                      50/255\n",
    "                     )"
   ]
  },
  {
   "cell_type": "code",
   "execution_count": null,
   "metadata": {},
   "outputs": [],
   "source": [
    "plt.figure\n",
    "io.imshow(res)"
   ]
  },
  {
   "cell_type": "code",
   "execution_count": null,
   "metadata": {},
   "outputs": [],
   "source": []
  }
 ],
 "metadata": {
  "kernelspec": {
   "display_name": "Python 3",
   "language": "python",
   "name": "python3"
  },
  "language_info": {
   "codemirror_mode": {
    "name": "ipython",
    "version": 3
   },
   "file_extension": ".py",
   "mimetype": "text/x-python",
   "name": "python",
   "nbconvert_exporter": "python",
   "pygments_lexer": "ipython3",
   "version": "3.8.6"
  }
 },
 "nbformat": 4,
 "nbformat_minor": 4
}
