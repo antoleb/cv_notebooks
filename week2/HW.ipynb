{
 "cells": [
  {
   "cell_type": "markdown",
   "metadata": {},
   "source": [
    "# Смешивание изображений с помощью пирамид"
   ]
  },
  {
   "cell_type": "markdown",
   "metadata": {},
   "source": [
    "На этой неделе вам предстоит реализовать смешивание изобрадений с помощью пирамиды лапласса. Для начала считаем наши изображения"
   ]
  },
  {
   "cell_type": "code",
   "execution_count": null,
   "metadata": {},
   "outputs": [],
   "source": [
    "import numpy as np\n",
    "\n",
    "from skimage import io, img_as_float"
   ]
  },
  {
   "cell_type": "code",
   "execution_count": null,
   "metadata": {},
   "outputs": [],
   "source": [
    "image1 = img_as_float(io.imread('media/orange.jpg'))\n",
    "image2 = img_as_float(io.imread('media/apple.jpg'))\n",
    "mask = np.zeros_like(image1)\n",
    "mask[:, image1.shape[1]//2:] = 1"
   ]
  },
  {
   "cell_type": "markdown",
   "metadata": {},
   "source": [
    "### Пирамида Гаусса"
   ]
  },
  {
   "cell_type": "markdown",
   "metadata": {},
   "source": [
    "Пирамида гаусса строится по рекурсивной формуле:\n",
    "\n",
    "$G(I)_0 = I$\n",
    "\n",
    "$G(I)_i = d(s(G(I)_{i-1}))$\n",
    "\n",
    "$s$ — фильтр гаусса\n",
    "\n",
    "$d$ - операция понижения размерности в 2 раза\n",
    "\n",
    "\n",
    "Важно помнить, что в большинстве стандартных библиотек (в skimage.transform.resize в том числе), понижение размерности выполнятеся сразу с фильтром гаусса ради анти-алиасинга. Таким образом достаточно вызвать одну функцию"
   ]
  },
  {
   "cell_type": "code",
   "execution_count": null,
   "metadata": {},
   "outputs": [],
   "source": [
    "from skimage import transform\n",
    "\n",
    "# Реализуйте функцию создания пирамиды Гаусса\n",
    "def build_gaussian_pyromid(image, levels):\n",
    "    pass"
   ]
  },
  {
   "cell_type": "markdown",
   "metadata": {},
   "source": [
    "### Пирамида Лапласса"
   ]
  },
  {
   "cell_type": "markdown",
   "metadata": {},
   "source": [
    "Нас интересует инвертируемая версия пирамиды Лапаласса. Её формулы:\n",
    "\n",
    "$L(I)_i = G(I)_i - u(G(I)_{i+1})$\n",
    "\n",
    "$L(I)_k = G(I)_k$\n",
    "\n",
    "$u$ — операция увеличения размерности в 2 раза"
   ]
  },
  {
   "cell_type": "code",
   "execution_count": null,
   "metadata": {},
   "outputs": [],
   "source": [
    "# Реализуйте функцию создания пирамиды Лапласса\n",
    "def build_laplassian_pyromid(image, levels):\n",
    "    pass"
   ]
  },
  {
   "cell_type": "code",
   "execution_count": null,
   "metadata": {},
   "outputs": [],
   "source": [
    "# Реализуйте функцию инвертации Пирамиды Лапласса (восстановления исходного изображения)\n",
    "def invert_laplassian_pyromid(pyromid):\n",
    "    pass"
   ]
  },
  {
   "cell_type": "code",
   "execution_count": null,
   "metadata": {},
   "outputs": [],
   "source": [
    "# Небольшая проверка что все работает\n",
    "lp = build_laplassian_pyromid(image1, 5)\n",
    "assert np.allclose(invert_laplassian_pyromid(lp), image1)"
   ]
  },
  {
   "cell_type": "markdown",
   "metadata": {},
   "source": [
    "### Смешивание изображений"
   ]
  },
  {
   "cell_type": "markdown",
   "metadata": {},
   "source": [
    "Для смешивания нам необходимо построить лаплассовы пирамиды для изображений и гауссовы для масок. (Чтобы получить вторую маску, надо инвертировать первую).\n",
    "\n",
    "Для смешивания мы будем создавать новую пирамиду лапласса. Результат — восстановлененное изображение из этой новой пирамиды.\n",
    "\n",
    "Формула смешивания:\n",
    "\n",
    "$L_f(I)_i = G_1(I)_{i} * $"
   ]
  },
  {
   "cell_type": "code",
   "execution_count": null,
   "metadata": {},
   "outputs": [],
   "source": [
    "def blend_images(image1, image2, mask, levels=5):\n",
    "    pass"
   ]
  },
  {
   "cell_type": "code",
   "execution_count": null,
   "metadata": {},
   "outputs": [],
   "source": [
    "result = blend_images(image1, image2, mask)\n",
    "io.imshow(result)"
   ]
  }
 ],
 "metadata": {
  "kernelspec": {
   "display_name": "Python 3",
   "language": "python",
   "name": "python3"
  },
  "language_info": {
   "codemirror_mode": {
    "name": "ipython",
    "version": 3
   },
   "file_extension": ".py",
   "mimetype": "text/x-python",
   "name": "python",
   "nbconvert_exporter": "python",
   "pygments_lexer": "ipython3",
   "version": "3.8.6"
  }
 },
 "nbformat": 4,
 "nbformat_minor": 4
}
