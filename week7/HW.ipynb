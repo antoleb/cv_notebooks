{
 "cells": [
  {
   "cell_type": "markdown",
   "id": "31a333de",
   "metadata": {},
   "source": [
    "## Обучение GAN на MNIST\n",
    "\n",
    "Вашей задачей будет обучить GAN на наборе данных MNIST"
   ]
  },
  {
   "cell_type": "code",
   "execution_count": null,
   "id": "f12684b8",
   "metadata": {},
   "outputs": [],
   "source": [
    "import torch\n",
    "\n",
    "import numpy as np\n",
    "\n",
    "from torch import nn\n",
    "from torchvision import datasets, transforms\n",
    "\n",
    "from matplotlib import pyplot as plt\n",
    "from tqdm import tqdm_notebook\n",
    "\n",
    "from IPython.display import clear_output"
   ]
  },
  {
   "cell_type": "code",
   "execution_count": null,
   "id": "b1619e5a",
   "metadata": {},
   "outputs": [],
   "source": [
    "# Загрузим наш набор данных. По умолчанию он считывается как PIL image.\n",
    "# Чтобы сразу считать как тензор, объявим функцию трансформации\n",
    "\n",
    "transform=transforms.Compose([\n",
    "        transforms.ToTensor(),\n",
    "])# Иначе мы получим PIL изображения\n",
    "\n",
    "dataset = datasets.MNIST('./data/', download=True, transform=transform)"
   ]
  },
  {
   "cell_type": "code",
   "execution_count": null,
   "id": "1fa6805b",
   "metadata": {},
   "outputs": [],
   "source": [
    "# Загружается пары картинка, класс. Нас сейчас интерисуют только картинки\n",
    "dataset[0]# image, class\n",
    "plt.imshow(dataset[0][0].numpy()[0])"
   ]
  },
  {
   "cell_type": "code",
   "execution_count": null,
   "id": "27eb6278",
   "metadata": {},
   "outputs": [],
   "source": [
    "# Задайте класс генератора.\n",
    "# На вход он должен получить шум (например вектор размера 100)\n",
    "# На выходе должно получится одноканальное изображение 28x28\n",
    "\n",
    "class Generator(nn.Module):\n",
    "    def __init__(self):\n",
    "        super().__init__()\n",
    "        pass\n",
    "        # ваш код\n",
    "    def forward(self, x):\n",
    "        pass"
   ]
  },
  {
   "cell_type": "code",
   "execution_count": null,
   "id": "38010444",
   "metadata": {},
   "outputs": [],
   "source": [
    "# Задайте класс дискриминатора.\n",
    "# На вход он должен получить одноканальное изображение 28x28\n",
    "# На выходе должна быть метка класса для этого изображения\n",
    "\n",
    "class Discriminator(nn.Module):\n",
    "    def __init__(self):\n",
    "        super().__init__()\n",
    "        pass\n",
    "    def forward(self, x):\n",
    "        pass"
   ]
  },
  {
   "cell_type": "code",
   "execution_count": null,
   "id": "012dfedf",
   "metadata": {},
   "outputs": [],
   "source": [
    "# Создадим объекты этих классов\n",
    "\n",
    "generator = Generator()\n",
    "discriminator = Discriminator()"
   ]
  },
  {
   "cell_type": "code",
   "execution_count": null,
   "id": "243302bb",
   "metadata": {},
   "outputs": [],
   "source": [
    "# Проверим что генерируется. Код должен отработать, на изображении должен появится какой-то шум\n",
    "\n",
    "latent = torch.randn(1, 100) # Замените, если другой вход у генератора\n",
    "output = generator(latent)\n",
    "\n",
    "plt.imshow(output.detach().numpy()[0, 0]) # num_in_batch/single_channel"
   ]
  },
  {
   "cell_type": "code",
   "execution_count": null,
   "id": "f53f47a1",
   "metadata": {},
   "outputs": [],
   "source": [
    "# Проверим что дискриминатор может принять на вход выход генератора\n",
    "\n",
    "discriminator(output)"
   ]
  },
  {
   "cell_type": "code",
   "execution_count": null,
   "id": "1647e104",
   "metadata": {},
   "outputs": [],
   "source": [
    "# Задайте функции потерь для генератора и дискриминатора\n",
    "\n",
    "def discriminator_loss_fn(real_output, # Предсказания дискриминатора на реальных изображениях\n",
    "                          fake_output # Предсказания дискриминатора на сгенерированных изображениях\n",
    "                         ):\n",
    "    pass\n",
    "\n",
    "def generator_loss_fn(fake_output# Предсказания дискриминатора на сгенерированных изображениях\n",
    "                     ):\n",
    "    pass"
   ]
  },
  {
   "cell_type": "code",
   "execution_count": null,
   "id": "fffa2d43",
   "metadata": {},
   "outputs": [],
   "source": [
    "# Ищем гпу\n",
    "\n",
    "device = torch.device(\"cuda:0\" if torch.cuda.is_available() else \"cpu\")\n",
    "generator = generator.to(device)\n",
    "discriminator = discriminator.to(device)"
   ]
  },
  {
   "cell_type": "code",
   "execution_count": null,
   "id": "9bce75ba",
   "metadata": {
    "scrolled": false
   },
   "outputs": [],
   "source": [
    "# Теперь необходимо написать основной процесс обучения\n",
    "\n",
    "\n",
    "# Выберите параметры исходя из своей модели и вычислительных возможностей\n",
    "num_epoch = #\n",
    "batch_size = #\n",
    "\n",
    "\n",
    "# Задаем загрузчик реальных изображений и оптимизаторы наших сетей\n",
    "real_loader = torch.utils.data.DataLoader(dataset, batch_size)\n",
    "generator_optimizer = torch.optim.Adam(generator.parameters())\n",
    "discriminator_optimizer = torch.optim.Adam(discriminator.parameters())\n",
    "\n",
    "\n",
    "iteration = 0\n",
    "for epoch in range(num_epoch):\n",
    "    for real_batch, _ in real_loader:\n",
    "        real_batch = real_batch.to(device)\n",
    "        iteration += 1\n",
    "        \n",
    "        # Ваш код\n",
    "        # Не забудьте что функция потерь генератора не должна влиять на дискриминатор и наобарот\n",
    "        # Добавьте визуализацию процесса. Выводите графики обучения и промежуточные сгенерированные картинки\n",
    "        \n",
    "        \n",
    "    "
   ]
  },
  {
   "cell_type": "code",
   "execution_count": null,
   "id": "90818125",
   "metadata": {},
   "outputs": [],
   "source": [
    "# Посмотрим что выучилось\n",
    "\n",
    "latent = torch.randn(9, 100).to(device)# Замените если параметры латентного пространства другие\n",
    "fake_batch = generator(latent)\n",
    "\n",
    "fig, axis = plt.subplots(3, 3, figsize=[10, 10])\n",
    "for i in range(9):\n",
    "    axis[i//3, i%3].imshow(fake_batch.cpu().detach().numpy()[i, 0])\n",
    "plt.show()"
   ]
  }
 ],
 "metadata": {
  "kernelspec": {
   "display_name": "Python 3 (ipykernel)",
   "language": "python",
   "name": "python3"
  },
  "language_info": {
   "codemirror_mode": {
    "name": "ipython",
    "version": 3
   },
   "file_extension": ".py",
   "mimetype": "text/x-python",
   "name": "python",
   "nbconvert_exporter": "python",
   "pygments_lexer": "ipython3",
   "version": "3.8.10"
  }
 },
 "nbformat": 4,
 "nbformat_minor": 5
}
